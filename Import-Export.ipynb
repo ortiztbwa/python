{
  "nbformat": 4,
  "nbformat_minor": 0,
  "metadata": {
    "colab": {
      "provenance": [],
      "mount_file_id": "1uoKy83pQJBUTRCIDLUot8Ju1_zJOlTxR",
      "authorship_tag": "ABX9TyN2Wqsa8flDhRQhYrupQBPf",
      "include_colab_link": true
    },
    "kernelspec": {
      "name": "python3",
      "display_name": "Python 3"
    },
    "language_info": {
      "name": "python"
    }
  },
  "cells": [
    {
      "cell_type": "markdown",
      "metadata": {
        "id": "view-in-github",
        "colab_type": "text"
      },
      "source": [
        "<a href=\"https://colab.research.google.com/github/ortiztbwa/python/blob/master/Import-Export.ipynb\" target=\"_parent\"><img src=\"https://colab.research.google.com/assets/colab-badge.svg\" alt=\"Open In Colab\"/></a>"
      ]
    },
    {
      "cell_type": "code",
      "execution_count": null,
      "metadata": {
        "id": "Ie4uYYph8Y5s"
      },
      "outputs": [],
      "source": [
        "#ETL\n",
        "#importar csv\n",
        "import pandas as pd\n",
        "xlsx = pd.read_csv(\"sample_data/mnist_test.csv\")\n",
        "\n",
        "#exportar a xlsx\n",
        "xlsx.to_excel(\"sample_data/mnist_test22.xlsx\")"
      ]
    }
  ]
}